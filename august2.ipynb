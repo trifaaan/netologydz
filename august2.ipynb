{
 "cells": [
  {
   "cell_type": "code",
   "execution_count": 2,
   "id": "ea4e30eb",
   "metadata": {
    "scrolled": true
   },
   "outputs": [
    {
     "name": "stdout",
     "output_type": "stream",
     "text": [
      "Введите слово:slovo\n",
      "o\n"
     ]
    }
   ],
   "source": [
    "\"\"\"\n",
    "ЗАДАНИЕ 1\n",
    "\n",
    "\"\"\"\n",
    "slovo=str(input('Введите слово:'))\n",
    "n=int(len(slovo))\n",
    "\n",
    "if n % 2 == 0 :\n",
    "    k=int(n/2)\n",
    "    m=k+1\n",
    "    print(slovo[k-1],slovo [m-1])\n",
    "\n",
    "else:\n",
    "    a=int((n/2)+1)\n",
    "    print(slovo[a-1])\n",
    "    "
   ]
  },
  {
   "cell_type": "code",
   "execution_count": 3,
   "id": "f3a4149f",
   "metadata": {},
   "outputs": [
    {
     "name": "stdout",
     "output_type": "stream",
     "text": [
      "Введите число 1\n",
      "Повторите ввод числа 2\n",
      "Повторите ввод числа 3\n",
      "Повторите ввод числа 4\n",
      "Повторите ввод числа 0\n",
      "10\n"
     ]
    }
   ],
   "source": [
    "#ЗАДАНИЕ № 2\n",
    "a = int(input(\"Введите число \"))\n",
    "sum = 0\n",
    "while a != 0:\n",
    "    sum += a\n",
    "    a = int(input(\"Повторите ввод числа \"))\n",
    "\n",
    "print(sum)"
   ]
  },
  {
   "cell_type": "code",
   "execution_count": 3,
   "id": "2303319e",
   "metadata": {},
   "outputs": [
    {
     "name": "stdout",
     "output_type": "stream",
     "text": [
      "Идеальная пара : Alex Emma\n",
      "Идеальная пара : Arthur Kate\n",
      "Идеальная пара : John Kira\n",
      "Идеальная пара : Peter Liza\n",
      "Идеальная пара : Richard Trisha\n"
     ]
    },
    {
     "ename": "IndexError",
     "evalue": "list index out of range",
     "output_type": "error",
     "traceback": [
      "\u001b[1;31m---------------------------------------------------------------------------\u001b[0m",
      "\u001b[1;31mIndexError\u001b[0m                                Traceback (most recent call last)",
      "\u001b[1;32m<ipython-input-3-bfc3693a7e2c>\u001b[0m in \u001b[0;36m<module>\u001b[1;34m\u001b[0m\n\u001b[0;32m      7\u001b[0m     \u001b[0mi\u001b[0m\u001b[1;33m=\u001b[0m\u001b[1;36m0\u001b[0m\u001b[1;33m\u001b[0m\u001b[1;33m\u001b[0m\u001b[0m\n\u001b[0;32m      8\u001b[0m     \u001b[1;32mwhile\u001b[0m \u001b[0mi\u001b[0m\u001b[1;33m<=\u001b[0m \u001b[0mlen\u001b[0m\u001b[1;33m(\u001b[0m\u001b[0mboys\u001b[0m\u001b[1;33m)\u001b[0m\u001b[1;33m:\u001b[0m\u001b[1;33m\u001b[0m\u001b[1;33m\u001b[0m\u001b[0m\n\u001b[1;32m----> 9\u001b[1;33m         \u001b[0mprint\u001b[0m \u001b[1;33m(\u001b[0m\u001b[1;34m'Идеальная пара :'\u001b[0m\u001b[1;33m,\u001b[0m \u001b[0msorted\u001b[0m\u001b[1;33m(\u001b[0m\u001b[0mboys\u001b[0m\u001b[1;33m)\u001b[0m\u001b[1;33m[\u001b[0m\u001b[0mi\u001b[0m\u001b[1;33m]\u001b[0m \u001b[1;33m,\u001b[0m \u001b[0msorted\u001b[0m \u001b[1;33m(\u001b[0m\u001b[0mgirls\u001b[0m\u001b[1;33m)\u001b[0m\u001b[1;33m[\u001b[0m\u001b[0mi\u001b[0m\u001b[1;33m]\u001b[0m\u001b[1;33m)\u001b[0m\u001b[1;33m\u001b[0m\u001b[1;33m\u001b[0m\u001b[0m\n\u001b[0m\u001b[0;32m     10\u001b[0m         \u001b[0mi\u001b[0m\u001b[1;33m=\u001b[0m\u001b[0mi\u001b[0m\u001b[1;33m+\u001b[0m\u001b[1;36m1\u001b[0m\u001b[1;33m\u001b[0m\u001b[1;33m\u001b[0m\u001b[0m\n\u001b[0;32m     11\u001b[0m \u001b[1;32melse\u001b[0m\u001b[1;33m:\u001b[0m\u001b[1;33m\u001b[0m\u001b[1;33m\u001b[0m\u001b[0m\n",
      "\u001b[1;31mIndexError\u001b[0m: list index out of range"
     ]
    }
   ],
   "source": [
    "# ЗАДАНИЕ № 3\n",
    "boys = ['Peter', 'Alex', 'John', 'Arthur', 'Richard']\n",
    "girls = ['Kate', 'Liza', 'Kira', 'Emma', 'Trisha']\n",
    "if len(boys) == len(girls):\n",
    "    sorted(boys)\n",
    "    sorted(girls)\n",
    "    i=0\n",
    "    while i<= len(boys):\n",
    "        print ('Идеальная пара :', sorted(boys)[i] , sorted (girls)[i])\n",
    "        i=i+1\n",
    "else:\n",
    "    print('Внимание,кто-то может остаться без пары')"
   ]
  },
  {
   "cell_type": "code",
   "execution_count": 7,
   "id": "d09e591b",
   "metadata": {},
   "outputs": [
    {
     "name": "stdout",
     "output_type": "stream",
     "text": [
      "Cредняя температура в странах:\n",
      "['Thailand', [75.2, 77, 78.8, 73.4, 68, 75.2, 77]] средняя температура= 23.9 C\n",
      "['Germany', [57.2, 55.4, 59, 59, 53.6]] средняя температура= 13.8 C\n",
      "['Russia', [35.6, 37.4, 39.2, 41, 42.8, 39.2, 35.6]] средняя температура= 3.7 C\n",
      "['Poland', [50, 50, 53.6, 57.2, 55.4, 55.4]] средняя температура= 12.0 C\n"
     ]
    }
   ],
   "source": [
    "# ЗАДАНИЕ № 4\n",
    "countries_temperature = [\n",
    "    ['Thailand', [75.2, 77, 78.8, 73.4, 68, 75.2, 77]],\n",
    "    ['Germany', [57.2, 55.4, 59, 59, 53.6]],\n",
    "    ['Russia', [35.6, 37.4, 39.2, 41, 42.8, 39.2, 35.6]],\n",
    "    ['Poland', [50, 50, 53.6, 57.2, 55.4, 55.4]]\n",
    "]\n",
    "i = 0\n",
    "print('Cредняя температура в странах:')\n",
    "for element in countries_temperature: \n",
    "    print(element,'средняя температура=',round((sum(countries_temperature[i][1])/len(countries_temperature[i][1])-32)/1.8,1), 'C')\n",
    "    i=i+1\n"
   ]
  },
  {
   "cell_type": "code",
   "execution_count": null,
   "id": "a2b17163",
   "metadata": {},
   "outputs": [],
   "source": []
  },
  {
   "cell_type": "code",
   "execution_count": null,
   "id": "b53d2eb6",
   "metadata": {},
   "outputs": [],
   "source": []
  }
 ],
 "metadata": {
  "kernelspec": {
   "display_name": "Python 3",
   "language": "python",
   "name": "python3"
  },
  "language_info": {
   "codemirror_mode": {
    "name": "ipython",
    "version": 3
   },
   "file_extension": ".py",
   "mimetype": "text/x-python",
   "name": "python",
   "nbconvert_exporter": "python",
   "pygments_lexer": "ipython3",
   "version": "3.8.8"
  }
 },
 "nbformat": 4,
 "nbformat_minor": 5
}
