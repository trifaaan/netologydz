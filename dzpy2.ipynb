{
 "cells": [
  {
   "cell_type": "code",
   "execution_count": 35,
   "id": "78c355af",
   "metadata": {},
   "outputs": [
    {
     "name": "stdout",
     "output_type": "stream",
     "text": [
      "Введите фразу 1:1\n",
      "Введите фразу 2:2\n",
      "Фраза 1 и 2 одинаковой длины\n"
     ]
    }
   ],
   "source": [
    "\"\"\"\n",
    "ЗАДАНИЕ 1\n",
    "\n",
    "\"\"\"\n",
    "\n",
    "phrase_1=str(input('Введите фразу 1:'))\n",
    "phrase_2=str(input('Введите фразу 2:'))\n",
    "if len(phrase_1) > len(phrase_2):\n",
    "    print('Фраза 1 длиннее фразы 2')\n",
    "elif len(phrase_1) < len(phrase_2):\n",
    "    print('Фраза 2 длиннее фразы 1')\n",
    "else:\n",
    "    print('Фраза 1 и 2 одинаковой длины')\n"
   ]
  },
  {
   "cell_type": "code",
   "execution_count": 104,
   "id": "00e3cd22",
   "metadata": {},
   "outputs": [
    {
     "name": "stdout",
     "output_type": "stream",
     "text": [
      "Введите год-200\n",
      "Попробуй снова\n"
     ]
    }
   ],
   "source": [
    "\"\"\"\n",
    "ЗАДАНИЕ 2\n",
    "\"\"\"\n",
    "year = int (input('Введите год'))\n",
    "if year > 0:\n",
    "    if year % 4 == 0:\n",
    "        print ('Високосный')\n",
    "    else:\n",
    "        print ('Обычный')\n",
    "else:\n",
    "    print ('Попробуй снова')\n",
    "    "
   ]
  },
  {
   "cell_type": "code",
   "execution_count": 116,
   "id": "e7bc1ebd",
   "metadata": {
    "scrolled": true
   },
   "outputs": [
    {
     "name": "stdout",
     "output_type": "stream",
     "text": [
      "Введите день29\n",
      "Введите месяцОктябрь\n",
      "Ошибка\n"
     ]
    }
   ],
   "source": [
    "\"\"\"\n",
    "ЗАДАНИЕ 3\n",
    "\n",
    "\"\"\"\n",
    "day = int (input('Введите день'))\n",
    "month = str (input('Введите месяц'))\n",
    "if ( month == 'март' and 21 <= day <= 31 ) or ( month == 'апрель' and 1 <= day <=20 ): \n",
    "    print ('Овен')\n",
    "elif ( month == 'апрель' and 21 <= day <= 30 ) or ( month == 'май' and 1 <= day <=21 ): \n",
    "    print ('Телец')\n",
    "elif ( month == 'май' and 22 <= day <= 31 ) or ( month == 'июнь' and 1 <= day <=21 ): \n",
    "    print ('Близнецы')\n",
    "elif ( month == 'июнь' and 22 <= day <= 30 ) or ( month == 'июль' and 1 <= day <=22 ): \n",
    "    print ('Рак')\n",
    "elif ( month == 'июль' and 23 <= day <= 31 ) or ( month == 'август' and 1 <= day <=23 ): \n",
    "    print ('Лев') \n",
    "elif ( month == 'август' and 24 <= day <= 31 ) or ( month == 'сентябрь' and 1 <= day <=23 ): \n",
    "    print ('Дева')   \n",
    "elif ( month == 'сентябрь' and 24 <= day <= 30 ) or ( month == 'октябрь' and 1 <= day <=23 ): \n",
    "    print ('Весы')\n",
    "elif ( month == 'октябрь' and 24 <= day <= 31 ) or ( month == 'ноябрь' and 1 <= day <=22 ): \n",
    "    print ('Скорпион')\n",
    "elif ( month == 'ноябрь' and 23 <= day <= 30 ) or ( month == 'декабрьь' and 1 <= day <=21 ): \n",
    "    print ('Стрелец')\n",
    "elif ( month == 'декабрь' and 22 <= day <= 31 ) or ( month == 'январь' and 1 <= day <=20 ): \n",
    "    print ('Козерог')\n",
    "elif ( month == 'январь' and 1 <= day <= 21 ) or ( month == 'февраль' and 1 <= day <=18 ): \n",
    "    print ('Водолей')\n",
    "elif ( month == 'февраль' and 19 <= day <= 28 ) or ( month == 'март' and 1 <= day <=20 ): \n",
    "    print ('Рыбы')    \n",
    "else:\n",
    "    print ('Ошибка')\n"
   ]
  },
  {
   "cell_type": "code",
   "execution_count": 121,
   "id": "2d2b2271",
   "metadata": {},
   "outputs": [
    {
     "name": "stdout",
     "output_type": "stream",
     "text": [
      "Введите ширину,см4\n",
      "Введите длину,см2000\n",
      "Введите высоту,см2\n",
      "Ищите упаковку для лыж\n"
     ]
    }
   ],
   "source": [
    "width = int(input('Введите ширину,см'))\n",
    "length = int(input('Введите длину,см'))\n",
    "height = int(input('Введите высоту,см'))\n",
    "\n",
    "if (0<width<15) and (0<length<15) and (0<height<15):\n",
    "    print('Коробка № 1')\n",
    "elif (length>200):\n",
    "    print('Ищите упаковку для лыж')\n",
    "elif (15<width<50) or (15<length<50) or (15<height<50):\n",
    "    print('Коробка № 2')\n",
    "else:\n",
    "    print('Стандартная коробка №3')\n",
    "    "
   ]
  }
 ],
 "metadata": {
  "kernelspec": {
   "display_name": "Python 3",
   "language": "python",
   "name": "python3"
  },
  "language_info": {
   "codemirror_mode": {
    "name": "ipython",
    "version": 3
   },
   "file_extension": ".py",
   "mimetype": "text/x-python",
   "name": "python",
   "nbconvert_exporter": "python",
   "pygments_lexer": "ipython3",
   "version": "3.8.8"
  }
 },
 "nbformat": 4,
 "nbformat_minor": 5
}
